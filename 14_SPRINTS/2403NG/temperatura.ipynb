{
  "nbformat": 4,
  "nbformat_minor": 0,
  "metadata": {
    "colab": {
      "provenance": []
    },
    "kernelspec": {
      "name": "python3",
      "display_name": "Python 3"
    },
    "language_info": {
      "name": "python"
    }
  },
  "cells": [
    {
      "cell_type": "code",
      "execution_count": 2,
      "metadata": {
        "colab": {
          "base_uri": "https://localhost:8080/",
          "height": 0
        },
        "id": "EA8gvvgzWJQ5",
        "outputId": "4ed5a698-1ec1-4706-a0cb-52625e8784cd"
      },
      "outputs": [
        {
          "name": "stdout",
          "output_type": "stream",
          "text": [
            "digite a qntd de aulas: 60\n"
          ]
        }
      ],
      "source": [
        "Horas=int(input('digite a qntd de aulas: '))"
      ]
    },
    {
      "cell_type": "code",
      "source": [
        "Faltas=(Horas*25)/100"
      ],
      "metadata": {
        "id": "7jwAmFbZXHe6"
      },
      "execution_count": 3,
      "outputs": []
    },
    {
      "cell_type": "code",
      "source": [],
      "metadata": {
        "id": "rFbZjflib8lp"
      },
      "execution_count": null,
      "outputs": []
    },
    {
      "cell_type": "code",
      "source": [
        "qtdfaltas=float(input('insira a qtd de faltas: '))"
      ],
      "metadata": {
        "colab": {
          "base_uri": "https://localhost:8080/",
          "height": 0
        },
        "id": "sUL4NWltY40M",
        "outputId": "ffd1079f-4e0b-4ed5-86a2-0be4535ac684"
      },
      "execution_count": 7,
      "outputs": [
        {
          "name": "stdout",
          "output_type": "stream",
          "text": [
            "insira a qtd de faltas: 15\n"
          ]
        }
      ]
    },
    {
      "cell_type": "code",
      "source": [
        "if Faltas <= qtdfaltas:\n",
        "  print(\"aprovado\")\n",
        "else:\n",
        "  print(\"reprovado\")"
      ],
      "metadata": {
        "colab": {
          "base_uri": "https://localhost:8080/",
          "height": 0
        },
        "id": "nSEGT_o7Y5to",
        "outputId": "24aeb0bf-8f50-4385-b6de-89ca0a35a3ad"
      },
      "execution_count": 14,
      "outputs": [
        {
          "output_type": "stream",
          "name": "stdout",
          "text": [
            "aprovado\n"
          ]
        }
      ]
    },
    {
      "cell_type": "code",
      "source": [
        "pHoras=int(input('digite a qntd de aulas: '))\n",
        "Faltas=(Horas*25)/100\n",
        "qtdfaltas=int(input('insira a qtd de faltas: '))\n",
        "if qtdfaltas < Faltas:\n",
        "  print(\"aprovado! As faltas permitidas são:\", Faltas)\n",
        "else:\n",
        "  print(\"reprovado\")"
      ],
      "metadata": {
        "colab": {
          "base_uri": "https://localhost:8080/",
          "height": 0
        },
        "id": "1ruWcqXlcRJ4",
        "outputId": "2c4c6aab-1ab7-4e9e-a791-0d5fd58c90af"
      },
      "execution_count": 15,
      "outputs": [
        {
          "output_type": "stream",
          "name": "stdout",
          "text": [
            "digite a qntd de aulas: 60\n",
            "insira a qtd de faltas: 15\n",
            "reprovado\n"
          ]
        }
      ]
    },
    {
      "cell_type": "code",
      "source": [],
      "metadata": {
        "id": "cI8daXQacjyE"
      },
      "execution_count": 12,
      "outputs": []
    }
  ]
}